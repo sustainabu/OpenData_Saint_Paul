{
 "cells": [
  {
   "cell_type": "code",
   "execution_count": null,
   "metadata": {},
   "outputs": [],
   "source": [
    "#Add  demographic Data\n",
    "SPDem = pd.read_csv('MSP Neighborhoods_2013-2017.csv', skiprows=[1])\n",
    "SPDem.columns = SPDem.columns.str.replace(' ', '')\n",
    "SPDem['City'].value_counts().to_frame()\n",
    "SPDem= SPDem.query('geography in [\"Summit Hill\",\"Hamline-Midway\",\"Frogtown/Thomas-Dale\",\"Union Park\"]')\n",
    "\n",
    "\n",
    "\n",
    "for i,square in enumerate(SPDem.columns.values): \n",
    "    print(str(i) + ' '+ square)\n",
    "\n",
    "\n",
    "SPDem = SPDem.iloc[:,[1,2,27,39,43,47,63,71,107,123,127,131,135,159,215,243,267,271,275,279,363,371,375,379,383,387,391,395,399,403,471,475,479,495,511,515,519,523]]\n",
    "\n",
    "col_names= ['TotHH','Neigh','Unemploy','<HighSDip','HighSDip','AssDeg','BacDeg+','Foreign%','Child<18','Inc<35k','Inc_35to50','Inc_50to75','Inc75to100','Age65+','Renter','LangNotEng','Age18_24','Age25_34','Age35_44','Age45_54','Male','Race_Black','Race_Native','Race_Asian','Race_Other','Race_Two+','Race_His','Race_White','Race_POC','Poverty','Poverty_At','Poverty_100to150','Poverty_150to200','CarOwn','Commute<10','Commute_10to19','Commute_20-29','Commute_30+']\n",
    "\n",
    "SPDem.columns= col_names\n"
   ]
  }
 ],
 "metadata": {
  "kernelspec": {
   "display_name": "Python 3 (ipykernel)",
   "language": "python",
   "name": "python3"
  },
  "language_info": {
   "codemirror_mode": {
    "name": "ipython",
    "version": 3
   },
   "file_extension": ".py",
   "mimetype": "text/x-python",
   "name": "python",
   "nbconvert_exporter": "python",
   "pygments_lexer": "ipython3",
   "version": "3.12.3"
  }
 },
 "nbformat": 4,
 "nbformat_minor": 4
}
